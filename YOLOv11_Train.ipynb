{
 "cells": [
  {
   "cell_type": "markdown",
   "id": "b40ea87e",
   "metadata": {},
   "source": [
    "## Скачивание архива датасета"
   ]
  },
  {
   "cell_type": "code",
   "execution_count": 6,
   "id": "d55c9f70",
   "metadata": {},
   "outputs": [],
   "source": [
    "import os\n",
    "import zipfile\n",
    "\n",
    "# Определяем папку для хранения датасета\n",
    "archive_dir = \"sh17-dataset\"\n",
    "\n",
    "# Качаем датасет\n",
    "\n",
    "# !wget --no-check-certificate --content-disposition \"https://downloader.disk.yandex.ru/disk/4f5a29992d14da3b626db85e7aed2fb32a0e6334420d3335863fadaf023f0d62/67fae884/fKqInKw3d7bLFOeFnMGnhBBjIa9mrlrAq9KCW5vq5nBlCpxFsLCj_8MNUjYzXn58Yp2yHjbDt1QdBiZZzXPnGmmdpx5quiTYZqhY88o3c7Sr8npumZHI4midPdWhecNq?uid=0&filename=archive.zip&disposition=attachment&hash=tmlbVgdjvfAQx6KNq%2Bf9AI3LqldfwG5ytUPig1MWW5Z2aQeJUR6OFFKfrCjoVUkjskEAmkQ4kXOg0TR8ZsXayQ%3D%3D&limit=0&content_type=application%2Fzip&owner_uid=1130000059540641&fsize=14110700791&hid=3e83b0938ee600478d33fcd80138b0bc&media_type=compressed&tknv=v2\" -P sh17-dataset\n"
   ]
  },
  {
   "cell_type": "markdown",
   "id": "29064f78",
   "metadata": {},
   "source": [
    "## Распаковка архива"
   ]
  },
  {
   "cell_type": "code",
   "execution_count": 8,
   "id": "1e9e4103-47fe-4961-b269-648c698c460c",
   "metadata": {},
   "outputs": [
    {
     "name": "stdout",
     "output_type": "stream",
     "text": [
      "Updated file created successfully: sh17-dataset/archive/updated_train_files.txt\n",
      "Updated file created successfully: sh17-dataset/archive/updated_val_files.txt\n",
      "[INFO] Используем конфигурацию датасета: sh17-dataset/archive/sh17_kaggle.yaml\n"
     ]
    }
   ],
   "source": [
    "import os\n",
    "import zipfile\n",
    "\n",
    "archive_path = os.path.join(\"sh17-dataset\", \"archive.zip\")\n",
    "extract_dir = os.path.join(\"sh17-dataset\", \"archive\")\n",
    "\n",
    "if not os.path.exists(extract_dir):\n",
    "    os.makedirs(extract_dir)\n",
    "\n",
    "if os.path.exists(archive_path):\n",
    "    with zipfile.ZipFile(archive_path, 'r') as zip_ref:\n",
    "        zip_ref.extractall(extract_dir)\n",
    "    print(\"Архив распакован в:\", extract_dir)\n",
    "else:\n",
    "    print(\"Файл архива не найден:\", archive_path)\n"
   ]
  },
  {
   "cell_type": "markdown",
   "id": "142af9cb-4827-4ede-b049-c6b69a9c0476",
   "metadata": {},
   "source": [
    "## Запуск эксперимента через dvc"
   ]
  },
  {
   "cell_type": "code",
   "execution_count": 9,
   "id": "6ecc0cbe-18cf-47c0-85d8-9e83349ac836",
   "metadata": {},
   "outputs": [
    {
     "name": "stdout",
     "output_type": "stream",
     "text": [
      "Reproducing experiment 'sudsy-hunt'                                   core\u001b[39m>\n",
      "Building workspace index                              |0.00 [00:00,    ?entry/s]\n",
      "Comparing indexes                                    |2.00 [00:00, 1.48kentry/s]\n",
      "\u001b[33mWARNING\u001b[39m: No file hash info found for '/Users/admin/Учеба/КПВ/PPE-Detection/metrics.json'. It won't be created.\n",
      "Applying changes                                      |0.00 [00:00,     ?file/s]\n",
      "Running stage 'train':                                                          \n",
      "> python train.py --config params.yaml\n",
      "zsh:1: command not found: python\n",
      "\u001b[31mERROR\u001b[39m: failed to reproduce 'train': failed to run: python train.py --config params.yaml, exited with 127\n",
      "\u001b[0m"
     ]
    }
   ],
   "source": [
    "!dvc exp run"
   ]
  },
  {
   "cell_type": "markdown",
   "id": "4871ec30-0042-467a-9244-57245ea1f56d",
   "metadata": {},
   "source": [
    "## Отображение результатов эксперимента"
   ]
  },
  {
   "cell_type": "code",
   "execution_count": null,
   "id": "e7208db8-ad7f-4056-89b4-6b6e814622bc",
   "metadata": {},
   "outputs": [],
   "source": [
    "import os\n",
    "import pandas as pd\n",
    "\n",
    "if os.path.exists(\"metrics.json\"):\n",
    "    results = pd.read_json(\"metrics.json\")\n",
    "    print(\"Метрики эксперимента (metrics.json):\")\n",
    "    display(results)\n",
    "elif os.path.exists(\"final_results.csv\"):\n",
    "    results = pd.read_csv(\"final_results.csv\")\n",
    "    print(\"Итоговые результаты (final_results.csv):\")\n",
    "    display(results)\n",
    "else:\n",
    "    print(\"Файлы с метриками не найдены. Проверьте, завершён ли эксперимент.\")\n"
   ]
  },
  {
   "cell_type": "code",
   "execution_count": 25,
   "id": "33ca4089",
   "metadata": {},
   "outputs": [
    {
     "name": "stdout",
     "output_type": "stream",
     "text": [
      "Requirement already satisfied: torch==2.2.2 in /Library/Frameworks/Python.framework/Versions/3.12/lib/python3.12/site-packages (from -r requirements.txt (line 2)) (2.2.2)\n",
      "Requirement already satisfied: torchvision==0.17.2 in /Library/Frameworks/Python.framework/Versions/3.12/lib/python3.12/site-packages (from -r requirements.txt (line 3)) (0.17.2)\n",
      "Requirement already satisfied: ultralytics>=8.0.0 in /Library/Frameworks/Python.framework/Versions/3.12/lib/python3.12/site-packages (from -r requirements.txt (line 4)) (8.3.107)\n",
      "Requirement already satisfied: pandas>=1.3.0 in /Library/Frameworks/Python.framework/Versions/3.12/lib/python3.12/site-packages (from -r requirements.txt (line 7)) (2.2.3)\n",
      "Requirement already satisfied: matplotlib>=3.5.0 in /Library/Frameworks/Python.framework/Versions/3.12/lib/python3.12/site-packages (from -r requirements.txt (line 8)) (3.9.2)\n",
      "Requirement already satisfied: tensorboard>=2.10.0 in /Library/Frameworks/Python.framework/Versions/3.12/lib/python3.12/site-packages (from -r requirements.txt (line 11)) (2.19.0)\n",
      "Requirement already satisfied: dvc>=3.59.1 in /Library/Frameworks/Python.framework/Versions/3.12/lib/python3.12/site-packages (from -r requirements.txt (line 14)) (3.59.1)\n",
      "Requirement already satisfied: kaggle>=1.5.12 in /Library/Frameworks/Python.framework/Versions/3.12/lib/python3.12/site-packages (from -r requirements.txt (line 17)) (1.7.4.2)\n",
      "Collecting numpy<2 (from -r requirements.txt (line 19))\n",
      "  Downloading numpy-1.26.4-cp312-cp312-macosx_10_9_x86_64.whl.metadata (61 kB)\n",
      "Requirement already satisfied: filelock in /Library/Frameworks/Python.framework/Versions/3.12/lib/python3.12/site-packages (from torch==2.2.2->-r requirements.txt (line 2)) (3.18.0)\n",
      "Requirement already satisfied: typing-extensions>=4.8.0 in /Library/Frameworks/Python.framework/Versions/3.12/lib/python3.12/site-packages (from torch==2.2.2->-r requirements.txt (line 2)) (4.13.2)\n",
      "Requirement already satisfied: sympy in /Library/Frameworks/Python.framework/Versions/3.12/lib/python3.12/site-packages (from torch==2.2.2->-r requirements.txt (line 2)) (1.13.3)\n",
      "Requirement already satisfied: networkx in /Library/Frameworks/Python.framework/Versions/3.12/lib/python3.12/site-packages (from torch==2.2.2->-r requirements.txt (line 2)) (3.4.2)\n",
      "Requirement already satisfied: jinja2 in /Library/Frameworks/Python.framework/Versions/3.12/lib/python3.12/site-packages (from torch==2.2.2->-r requirements.txt (line 2)) (3.1.6)\n",
      "Requirement already satisfied: fsspec in /Library/Frameworks/Python.framework/Versions/3.12/lib/python3.12/site-packages (from torch==2.2.2->-r requirements.txt (line 2)) (2025.3.2)\n",
      "Requirement already satisfied: pillow!=8.3.*,>=5.3.0 in /Library/Frameworks/Python.framework/Versions/3.12/lib/python3.12/site-packages (from torchvision==0.17.2->-r requirements.txt (line 3)) (10.4.0)\n",
      "Requirement already satisfied: opencv-python>=4.6.0 in /Library/Frameworks/Python.framework/Versions/3.12/lib/python3.12/site-packages (from ultralytics>=8.0.0->-r requirements.txt (line 4)) (4.11.0.86)\n",
      "Requirement already satisfied: pyyaml>=5.3.1 in /Library/Frameworks/Python.framework/Versions/3.12/lib/python3.12/site-packages (from ultralytics>=8.0.0->-r requirements.txt (line 4)) (6.0.2)\n",
      "Requirement already satisfied: requests>=2.23.0 in /Library/Frameworks/Python.framework/Versions/3.12/lib/python3.12/site-packages (from ultralytics>=8.0.0->-r requirements.txt (line 4)) (2.32.3)\n",
      "Requirement already satisfied: scipy>=1.4.1 in /Library/Frameworks/Python.framework/Versions/3.12/lib/python3.12/site-packages (from ultralytics>=8.0.0->-r requirements.txt (line 4)) (1.15.2)\n",
      "Requirement already satisfied: tqdm>=4.64.0 in /Library/Frameworks/Python.framework/Versions/3.12/lib/python3.12/site-packages (from ultralytics>=8.0.0->-r requirements.txt (line 4)) (4.67.1)\n",
      "Requirement already satisfied: psutil in /Library/Frameworks/Python.framework/Versions/3.12/lib/python3.12/site-packages (from ultralytics>=8.0.0->-r requirements.txt (line 4)) (7.0.0)\n",
      "Requirement already satisfied: py-cpuinfo in /Library/Frameworks/Python.framework/Versions/3.12/lib/python3.12/site-packages (from ultralytics>=8.0.0->-r requirements.txt (line 4)) (9.0.0)\n",
      "Requirement already satisfied: seaborn>=0.11.0 in /Library/Frameworks/Python.framework/Versions/3.12/lib/python3.12/site-packages (from ultralytics>=8.0.0->-r requirements.txt (line 4)) (0.13.2)\n",
      "Requirement already satisfied: ultralytics-thop>=2.0.0 in /Library/Frameworks/Python.framework/Versions/3.12/lib/python3.12/site-packages (from ultralytics>=8.0.0->-r requirements.txt (line 4)) (2.0.14)\n",
      "Requirement already satisfied: python-dateutil>=2.8.2 in /Library/Frameworks/Python.framework/Versions/3.12/lib/python3.12/site-packages (from pandas>=1.3.0->-r requirements.txt (line 7)) (2.9.0.post0)\n",
      "Requirement already satisfied: pytz>=2020.1 in /Library/Frameworks/Python.framework/Versions/3.12/lib/python3.12/site-packages (from pandas>=1.3.0->-r requirements.txt (line 7)) (2025.2)\n",
      "Requirement already satisfied: tzdata>=2022.7 in /Library/Frameworks/Python.framework/Versions/3.12/lib/python3.12/site-packages (from pandas>=1.3.0->-r requirements.txt (line 7)) (2025.2)\n",
      "Requirement already satisfied: contourpy>=1.0.1 in /Library/Frameworks/Python.framework/Versions/3.12/lib/python3.12/site-packages (from matplotlib>=3.5.0->-r requirements.txt (line 8)) (1.3.0)\n",
      "Requirement already satisfied: cycler>=0.10 in /Library/Frameworks/Python.framework/Versions/3.12/lib/python3.12/site-packages (from matplotlib>=3.5.0->-r requirements.txt (line 8)) (0.12.1)\n",
      "Requirement already satisfied: fonttools>=4.22.0 in /Library/Frameworks/Python.framework/Versions/3.12/lib/python3.12/site-packages (from matplotlib>=3.5.0->-r requirements.txt (line 8)) (4.54.1)\n",
      "Requirement already satisfied: kiwisolver>=1.3.1 in /Library/Frameworks/Python.framework/Versions/3.12/lib/python3.12/site-packages (from matplotlib>=3.5.0->-r requirements.txt (line 8)) (1.4.7)\n",
      "Requirement already satisfied: packaging>=20.0 in /Library/Frameworks/Python.framework/Versions/3.12/lib/python3.12/site-packages (from matplotlib>=3.5.0->-r requirements.txt (line 8)) (24.1)\n",
      "Requirement already satisfied: pyparsing>=2.3.1 in /Library/Frameworks/Python.framework/Versions/3.12/lib/python3.12/site-packages (from matplotlib>=3.5.0->-r requirements.txt (line 8)) (3.1.4)\n",
      "Requirement already satisfied: absl-py>=0.4 in /Library/Frameworks/Python.framework/Versions/3.12/lib/python3.12/site-packages (from tensorboard>=2.10.0->-r requirements.txt (line 11)) (2.2.2)\n",
      "Requirement already satisfied: grpcio>=1.48.2 in /Library/Frameworks/Python.framework/Versions/3.12/lib/python3.12/site-packages (from tensorboard>=2.10.0->-r requirements.txt (line 11)) (1.71.0)\n",
      "Requirement already satisfied: markdown>=2.6.8 in /Library/Frameworks/Python.framework/Versions/3.12/lib/python3.12/site-packages (from tensorboard>=2.10.0->-r requirements.txt (line 11)) (3.8)\n",
      "Requirement already satisfied: protobuf!=4.24.0,>=3.19.6 in /Library/Frameworks/Python.framework/Versions/3.12/lib/python3.12/site-packages (from tensorboard>=2.10.0->-r requirements.txt (line 11)) (6.30.2)\n",
      "Requirement already satisfied: setuptools>=41.0.0 in /Library/Frameworks/Python.framework/Versions/3.12/lib/python3.12/site-packages (from tensorboard>=2.10.0->-r requirements.txt (line 11)) (78.1.0)\n",
      "Requirement already satisfied: six>1.9 in /Library/Frameworks/Python.framework/Versions/3.12/lib/python3.12/site-packages (from tensorboard>=2.10.0->-r requirements.txt (line 11)) (1.16.0)\n",
      "Requirement already satisfied: tensorboard-data-server<0.8.0,>=0.7.0 in /Library/Frameworks/Python.framework/Versions/3.12/lib/python3.12/site-packages (from tensorboard>=2.10.0->-r requirements.txt (line 11)) (0.7.2)\n",
      "Requirement already satisfied: werkzeug>=1.0.1 in /Library/Frameworks/Python.framework/Versions/3.12/lib/python3.12/site-packages (from tensorboard>=2.10.0->-r requirements.txt (line 11)) (3.1.3)\n",
      "Requirement already satisfied: attrs>=22.2.0 in /Library/Frameworks/Python.framework/Versions/3.12/lib/python3.12/site-packages (from dvc>=3.59.1->-r requirements.txt (line 14)) (25.3.0)\n",
      "Requirement already satisfied: celery in /Library/Frameworks/Python.framework/Versions/3.12/lib/python3.12/site-packages (from dvc>=3.59.1->-r requirements.txt (line 14)) (5.5.1)\n",
      "Requirement already satisfied: colorama>=0.3.9 in /Library/Frameworks/Python.framework/Versions/3.12/lib/python3.12/site-packages (from dvc>=3.59.1->-r requirements.txt (line 14)) (0.4.6)\n",
      "Requirement already satisfied: configobj>=5.0.9 in /Library/Frameworks/Python.framework/Versions/3.12/lib/python3.12/site-packages (from dvc>=3.59.1->-r requirements.txt (line 14)) (5.0.9)\n",
      "Requirement already satisfied: distro>=1.3 in /Library/Frameworks/Python.framework/Versions/3.12/lib/python3.12/site-packages (from dvc>=3.59.1->-r requirements.txt (line 14)) (1.9.0)\n",
      "Requirement already satisfied: dpath<3,>=2.1.0 in /Library/Frameworks/Python.framework/Versions/3.12/lib/python3.12/site-packages (from dvc>=3.59.1->-r requirements.txt (line 14)) (2.2.0)\n",
      "Requirement already satisfied: dulwich in /Library/Frameworks/Python.framework/Versions/3.12/lib/python3.12/site-packages (from dvc>=3.59.1->-r requirements.txt (line 14)) (0.22.8)\n",
      "Requirement already satisfied: dvc-data<3.17,>=3.16.2 in /Library/Frameworks/Python.framework/Versions/3.12/lib/python3.12/site-packages (from dvc>=3.59.1->-r requirements.txt (line 14)) (3.16.9)\n",
      "Requirement already satisfied: dvc-http>=2.29.0 in /Library/Frameworks/Python.framework/Versions/3.12/lib/python3.12/site-packages (from dvc>=3.59.1->-r requirements.txt (line 14)) (2.32.0)\n",
      "Requirement already satisfied: dvc-objects in /Library/Frameworks/Python.framework/Versions/3.12/lib/python3.12/site-packages (from dvc>=3.59.1->-r requirements.txt (line 14)) (5.1.0)\n",
      "Requirement already satisfied: dvc-render<2,>=1.0.1 in /Library/Frameworks/Python.framework/Versions/3.12/lib/python3.12/site-packages (from dvc>=3.59.1->-r requirements.txt (line 14)) (1.0.2)\n",
      "Requirement already satisfied: dvc-studio-client<1,>=0.21 in /Library/Frameworks/Python.framework/Versions/3.12/lib/python3.12/site-packages (from dvc>=3.59.1->-r requirements.txt (line 14)) (0.21.0)\n",
      "Requirement already satisfied: dvc-task<1,>=0.3.0 in /Library/Frameworks/Python.framework/Versions/3.12/lib/python3.12/site-packages (from dvc>=3.59.1->-r requirements.txt (line 14)) (0.40.2)\n",
      "Requirement already satisfied: flatten_dict<1,>=0.4.1 in /Library/Frameworks/Python.framework/Versions/3.12/lib/python3.12/site-packages (from dvc>=3.59.1->-r requirements.txt (line 14)) (0.4.2)\n",
      "Requirement already satisfied: flufl.lock<9,>=8.1.0 in /Library/Frameworks/Python.framework/Versions/3.12/lib/python3.12/site-packages (from dvc>=3.59.1->-r requirements.txt (line 14)) (8.1.0)\n",
      "Requirement already satisfied: funcy>=1.14 in /Library/Frameworks/Python.framework/Versions/3.12/lib/python3.12/site-packages (from dvc>=3.59.1->-r requirements.txt (line 14)) (2.0)\n",
      "Requirement already satisfied: grandalf<1,>=0.7 in /Library/Frameworks/Python.framework/Versions/3.12/lib/python3.12/site-packages (from dvc>=3.59.1->-r requirements.txt (line 14)) (0.8)\n",
      "Requirement already satisfied: gto<2,>=1.6.0 in /Library/Frameworks/Python.framework/Versions/3.12/lib/python3.12/site-packages (from dvc>=3.59.1->-r requirements.txt (line 14)) (1.7.2)\n",
      "Requirement already satisfied: hydra-core>=1.1 in /Library/Frameworks/Python.framework/Versions/3.12/lib/python3.12/site-packages (from dvc>=3.59.1->-r requirements.txt (line 14)) (1.3.2)\n",
      "Requirement already satisfied: iterative-telemetry>=0.0.7 in /Library/Frameworks/Python.framework/Versions/3.12/lib/python3.12/site-packages (from dvc>=3.59.1->-r requirements.txt (line 14)) (0.0.10)\n",
      "Requirement already satisfied: kombu in /Library/Frameworks/Python.framework/Versions/3.12/lib/python3.12/site-packages (from dvc>=3.59.1->-r requirements.txt (line 14)) (5.5.2)\n",
      "Requirement already satisfied: omegaconf in /Library/Frameworks/Python.framework/Versions/3.12/lib/python3.12/site-packages (from dvc>=3.59.1->-r requirements.txt (line 14)) (2.3.0)\n",
      "Requirement already satisfied: pathspec>=0.10.3 in /Library/Frameworks/Python.framework/Versions/3.12/lib/python3.12/site-packages (from dvc>=3.59.1->-r requirements.txt (line 14)) (0.12.1)\n",
      "Requirement already satisfied: platformdirs<5,>=3.1.1 in /Library/Frameworks/Python.framework/Versions/3.12/lib/python3.12/site-packages (from dvc>=3.59.1->-r requirements.txt (line 14)) (4.3.7)\n",
      "Requirement already satisfied: pydot>=1.2.4 in /Library/Frameworks/Python.framework/Versions/3.12/lib/python3.12/site-packages (from dvc>=3.59.1->-r requirements.txt (line 14)) (3.0.4)\n",
      "Requirement already satisfied: pygtrie>=2.3.2 in /Library/Frameworks/Python.framework/Versions/3.12/lib/python3.12/site-packages (from dvc>=3.59.1->-r requirements.txt (line 14)) (2.5.0)\n",
      "Requirement already satisfied: rich>=12 in /Library/Frameworks/Python.framework/Versions/3.12/lib/python3.12/site-packages (from dvc>=3.59.1->-r requirements.txt (line 14)) (14.0.0)\n",
      "Requirement already satisfied: ruamel.yaml>=0.17.11 in /Library/Frameworks/Python.framework/Versions/3.12/lib/python3.12/site-packages (from dvc>=3.59.1->-r requirements.txt (line 14)) (0.18.10)\n",
      "Requirement already satisfied: scmrepo<4,>=3.3.8 in /Library/Frameworks/Python.framework/Versions/3.12/lib/python3.12/site-packages (from dvc>=3.59.1->-r requirements.txt (line 14)) (3.3.10)\n",
      "Requirement already satisfied: shortuuid>=0.5 in /Library/Frameworks/Python.framework/Versions/3.12/lib/python3.12/site-packages (from dvc>=3.59.1->-r requirements.txt (line 14)) (1.0.13)\n",
      "Requirement already satisfied: shtab<2,>=1.3.4 in /Library/Frameworks/Python.framework/Versions/3.12/lib/python3.12/site-packages (from dvc>=3.59.1->-r requirements.txt (line 14)) (1.7.1)\n",
      "Requirement already satisfied: tabulate>=0.8.7 in /Library/Frameworks/Python.framework/Versions/3.12/lib/python3.12/site-packages (from dvc>=3.59.1->-r requirements.txt (line 14)) (0.9.0)\n",
      "Requirement already satisfied: tomlkit>=0.11.1 in /Library/Frameworks/Python.framework/Versions/3.12/lib/python3.12/site-packages (from dvc>=3.59.1->-r requirements.txt (line 14)) (0.13.2)\n",
      "Requirement already satisfied: voluptuous>=0.11.7 in /Library/Frameworks/Python.framework/Versions/3.12/lib/python3.12/site-packages (from dvc>=3.59.1->-r requirements.txt (line 14)) (0.15.2)\n",
      "Requirement already satisfied: zc.lockfile>=1.2.1 in /Library/Frameworks/Python.framework/Versions/3.12/lib/python3.12/site-packages (from dvc>=3.59.1->-r requirements.txt (line 14)) (3.0.post1)\n",
      "Requirement already satisfied: bleach in /Library/Frameworks/Python.framework/Versions/3.12/lib/python3.12/site-packages (from kaggle>=1.5.12->-r requirements.txt (line 17)) (6.2.0)\n",
      "Requirement already satisfied: certifi>=14.05.14 in /Library/Frameworks/Python.framework/Versions/3.12/lib/python3.12/site-packages (from kaggle>=1.5.12->-r requirements.txt (line 17)) (2025.1.31)\n",
      "Requirement already satisfied: charset-normalizer in /Library/Frameworks/Python.framework/Versions/3.12/lib/python3.12/site-packages (from kaggle>=1.5.12->-r requirements.txt (line 17)) (3.4.1)\n",
      "Requirement already satisfied: idna in /Library/Frameworks/Python.framework/Versions/3.12/lib/python3.12/site-packages (from kaggle>=1.5.12->-r requirements.txt (line 17)) (3.10)\n",
      "Requirement already satisfied: python-slugify in /Library/Frameworks/Python.framework/Versions/3.12/lib/python3.12/site-packages (from kaggle>=1.5.12->-r requirements.txt (line 17)) (8.0.4)\n",
      "Requirement already satisfied: text-unidecode in /Library/Frameworks/Python.framework/Versions/3.12/lib/python3.12/site-packages (from kaggle>=1.5.12->-r requirements.txt (line 17)) (1.3)\n",
      "Requirement already satisfied: urllib3>=1.15.1 in /Library/Frameworks/Python.framework/Versions/3.12/lib/python3.12/site-packages (from kaggle>=1.5.12->-r requirements.txt (line 17)) (2.4.0)\n",
      "Requirement already satisfied: webencodings in /Library/Frameworks/Python.framework/Versions/3.12/lib/python3.12/site-packages (from kaggle>=1.5.12->-r requirements.txt (line 17)) (0.5.1)\n",
      "Requirement already satisfied: dictdiffer>=0.8.1 in /Library/Frameworks/Python.framework/Versions/3.12/lib/python3.12/site-packages (from dvc-data<3.17,>=3.16.2->dvc>=3.59.1->-r requirements.txt (line 14)) (0.9.0)\n",
      "Requirement already satisfied: diskcache>=5.2.1 in /Library/Frameworks/Python.framework/Versions/3.12/lib/python3.12/site-packages (from dvc-data<3.17,>=3.16.2->dvc>=3.59.1->-r requirements.txt (line 14)) (5.6.3)\n",
      "Requirement already satisfied: sqltrie<1,>=0.11.0 in /Library/Frameworks/Python.framework/Versions/3.12/lib/python3.12/site-packages (from dvc-data<3.17,>=3.16.2->dvc>=3.59.1->-r requirements.txt (line 14)) (0.11.2)\n",
      "Requirement already satisfied: orjson<4,>=3 in /Library/Frameworks/Python.framework/Versions/3.12/lib/python3.12/site-packages (from dvc-data<3.17,>=3.16.2->dvc>=3.59.1->-r requirements.txt (line 14)) (3.10.16)\n",
      "Requirement already satisfied: aiohttp-retry>=2.5.0 in /Library/Frameworks/Python.framework/Versions/3.12/lib/python3.12/site-packages (from dvc-http>=2.29.0->dvc>=3.59.1->-r requirements.txt (line 14)) (2.9.1)\n",
      "Requirement already satisfied: billiard<5.0,>=4.2.1 in /Library/Frameworks/Python.framework/Versions/3.12/lib/python3.12/site-packages (from celery->dvc>=3.59.1->-r requirements.txt (line 14)) (4.2.1)\n",
      "Requirement already satisfied: vine<6.0,>=5.1.0 in /Library/Frameworks/Python.framework/Versions/3.12/lib/python3.12/site-packages (from celery->dvc>=3.59.1->-r requirements.txt (line 14)) (5.1.0)\n",
      "Requirement already satisfied: click<9.0,>=8.1.2 in /Library/Frameworks/Python.framework/Versions/3.12/lib/python3.12/site-packages (from celery->dvc>=3.59.1->-r requirements.txt (line 14)) (8.1.8)\n",
      "Requirement already satisfied: click-didyoumean>=0.3.0 in /Library/Frameworks/Python.framework/Versions/3.12/lib/python3.12/site-packages (from celery->dvc>=3.59.1->-r requirements.txt (line 14)) (0.3.1)\n",
      "Requirement already satisfied: click-repl>=0.2.0 in /Library/Frameworks/Python.framework/Versions/3.12/lib/python3.12/site-packages (from celery->dvc>=3.59.1->-r requirements.txt (line 14)) (0.3.0)\n",
      "Requirement already satisfied: click-plugins>=1.1.1 in /Library/Frameworks/Python.framework/Versions/3.12/lib/python3.12/site-packages (from celery->dvc>=3.59.1->-r requirements.txt (line 14)) (1.1.1)\n",
      "Requirement already satisfied: atpublic in /Library/Frameworks/Python.framework/Versions/3.12/lib/python3.12/site-packages (from flufl.lock<9,>=8.1.0->dvc>=3.59.1->-r requirements.txt (line 14)) (5.1)\n",
      "Requirement already satisfied: entrypoints in /Library/Frameworks/Python.framework/Versions/3.12/lib/python3.12/site-packages (from gto<2,>=1.6.0->dvc>=3.59.1->-r requirements.txt (line 14)) (0.4)\n",
      "Requirement already satisfied: pydantic!=2.0.0,<3,>=1.9.0 in /Library/Frameworks/Python.framework/Versions/3.12/lib/python3.12/site-packages (from gto<2,>=1.6.0->dvc>=3.59.1->-r requirements.txt (line 14)) (2.11.3)\n",
      "Requirement already satisfied: semver>=2.13.0 in /Library/Frameworks/Python.framework/Versions/3.12/lib/python3.12/site-packages (from gto<2,>=1.6.0->dvc>=3.59.1->-r requirements.txt (line 14)) (3.0.4)\n",
      "Requirement already satisfied: typer>=0.4.1 in /Library/Frameworks/Python.framework/Versions/3.12/lib/python3.12/site-packages (from gto<2,>=1.6.0->dvc>=3.59.1->-r requirements.txt (line 14)) (0.15.2)\n",
      "Requirement already satisfied: antlr4-python3-runtime==4.9.* in /Library/Frameworks/Python.framework/Versions/3.12/lib/python3.12/site-packages (from hydra-core>=1.1->dvc>=3.59.1->-r requirements.txt (line 14)) (4.9.3)\n",
      "Requirement already satisfied: appdirs in /Library/Frameworks/Python.framework/Versions/3.12/lib/python3.12/site-packages (from iterative-telemetry>=0.0.7->dvc>=3.59.1->-r requirements.txt (line 14)) (1.4.4)\n",
      "Requirement already satisfied: amqp<6.0.0,>=5.1.1 in /Library/Frameworks/Python.framework/Versions/3.12/lib/python3.12/site-packages (from kombu->dvc>=3.59.1->-r requirements.txt (line 14)) (5.3.1)\n",
      "Requirement already satisfied: markdown-it-py>=2.2.0 in /Library/Frameworks/Python.framework/Versions/3.12/lib/python3.12/site-packages (from rich>=12->dvc>=3.59.1->-r requirements.txt (line 14)) (3.0.0)\n",
      "Requirement already satisfied: pygments<3.0.0,>=2.13.0 in /Library/Frameworks/Python.framework/Versions/3.12/lib/python3.12/site-packages (from rich>=12->dvc>=3.59.1->-r requirements.txt (line 14)) (2.19.1)\n",
      "Requirement already satisfied: ruamel.yaml.clib>=0.2.7 in /Library/Frameworks/Python.framework/Versions/3.12/lib/python3.12/site-packages (from ruamel.yaml>=0.17.11->dvc>=3.59.1->-r requirements.txt (line 14)) (0.2.12)\n",
      "Requirement already satisfied: gitpython>3 in /Library/Frameworks/Python.framework/Versions/3.12/lib/python3.12/site-packages (from scmrepo<4,>=3.3.8->dvc>=3.59.1->-r requirements.txt (line 14)) (3.1.44)\n",
      "Requirement already satisfied: pygit2>=1.14.0 in /Library/Frameworks/Python.framework/Versions/3.12/lib/python3.12/site-packages (from scmrepo<4,>=3.3.8->dvc>=3.59.1->-r requirements.txt (line 14)) (1.17.0)\n",
      "Requirement already satisfied: asyncssh<3,>=2.13.1 in /Library/Frameworks/Python.framework/Versions/3.12/lib/python3.12/site-packages (from scmrepo<4,>=3.3.8->dvc>=3.59.1->-r requirements.txt (line 14)) (2.20.0)\n",
      "Requirement already satisfied: MarkupSafe>=2.1.1 in /Library/Frameworks/Python.framework/Versions/3.12/lib/python3.12/site-packages (from werkzeug>=1.0.1->tensorboard>=2.10.0->-r requirements.txt (line 11)) (3.0.2)\n",
      "Requirement already satisfied: mpmath<1.4,>=1.1.0 in /Library/Frameworks/Python.framework/Versions/3.12/lib/python3.12/site-packages (from sympy->torch==2.2.2->-r requirements.txt (line 2)) (1.3.0)\n",
      "Requirement already satisfied: aiohttp in /Library/Frameworks/Python.framework/Versions/3.12/lib/python3.12/site-packages (from aiohttp-retry>=2.5.0->dvc-http>=2.29.0->dvc>=3.59.1->-r requirements.txt (line 14)) (3.11.16)\n",
      "Requirement already satisfied: cryptography>=39.0 in /Library/Frameworks/Python.framework/Versions/3.12/lib/python3.12/site-packages (from asyncssh<3,>=2.13.1->scmrepo<4,>=3.3.8->dvc>=3.59.1->-r requirements.txt (line 14)) (44.0.2)\n",
      "Requirement already satisfied: prompt-toolkit>=3.0.36 in /Library/Frameworks/Python.framework/Versions/3.12/lib/python3.12/site-packages (from click-repl>=0.2.0->celery->dvc>=3.59.1->-r requirements.txt (line 14)) (3.0.50)\n",
      "Requirement already satisfied: gitdb<5,>=4.0.1 in /Library/Frameworks/Python.framework/Versions/3.12/lib/python3.12/site-packages (from gitpython>3->scmrepo<4,>=3.3.8->dvc>=3.59.1->-r requirements.txt (line 14)) (4.0.12)\n",
      "Requirement already satisfied: mdurl~=0.1 in /Library/Frameworks/Python.framework/Versions/3.12/lib/python3.12/site-packages (from markdown-it-py>=2.2.0->rich>=12->dvc>=3.59.1->-r requirements.txt (line 14)) (0.1.2)\n",
      "Requirement already satisfied: annotated-types>=0.6.0 in /Library/Frameworks/Python.framework/Versions/3.12/lib/python3.12/site-packages (from pydantic!=2.0.0,<3,>=1.9.0->gto<2,>=1.6.0->dvc>=3.59.1->-r requirements.txt (line 14)) (0.7.0)\n",
      "Requirement already satisfied: pydantic-core==2.33.1 in /Library/Frameworks/Python.framework/Versions/3.12/lib/python3.12/site-packages (from pydantic!=2.0.0,<3,>=1.9.0->gto<2,>=1.6.0->dvc>=3.59.1->-r requirements.txt (line 14)) (2.33.1)\n",
      "Requirement already satisfied: typing-inspection>=0.4.0 in /Library/Frameworks/Python.framework/Versions/3.12/lib/python3.12/site-packages (from pydantic!=2.0.0,<3,>=1.9.0->gto<2,>=1.6.0->dvc>=3.59.1->-r requirements.txt (line 14)) (0.4.0)\n",
      "Requirement already satisfied: cffi>=1.17.0 in /Library/Frameworks/Python.framework/Versions/3.12/lib/python3.12/site-packages (from pygit2>=1.14.0->scmrepo<4,>=3.3.8->dvc>=3.59.1->-r requirements.txt (line 14)) (1.17.1)\n",
      "Requirement already satisfied: shellingham>=1.3.0 in /Library/Frameworks/Python.framework/Versions/3.12/lib/python3.12/site-packages (from typer>=0.4.1->gto<2,>=1.6.0->dvc>=3.59.1->-r requirements.txt (line 14)) (1.5.4)\n",
      "Requirement already satisfied: aiohappyeyeballs>=2.3.0 in /Library/Frameworks/Python.framework/Versions/3.12/lib/python3.12/site-packages (from aiohttp->aiohttp-retry>=2.5.0->dvc-http>=2.29.0->dvc>=3.59.1->-r requirements.txt (line 14)) (2.6.1)\n",
      "Requirement already satisfied: aiosignal>=1.1.2 in /Library/Frameworks/Python.framework/Versions/3.12/lib/python3.12/site-packages (from aiohttp->aiohttp-retry>=2.5.0->dvc-http>=2.29.0->dvc>=3.59.1->-r requirements.txt (line 14)) (1.3.2)\n",
      "Requirement already satisfied: frozenlist>=1.1.1 in /Library/Frameworks/Python.framework/Versions/3.12/lib/python3.12/site-packages (from aiohttp->aiohttp-retry>=2.5.0->dvc-http>=2.29.0->dvc>=3.59.1->-r requirements.txt (line 14)) (1.5.0)\n",
      "Requirement already satisfied: multidict<7.0,>=4.5 in /Library/Frameworks/Python.framework/Versions/3.12/lib/python3.12/site-packages (from aiohttp->aiohttp-retry>=2.5.0->dvc-http>=2.29.0->dvc>=3.59.1->-r requirements.txt (line 14)) (6.4.3)\n",
      "Requirement already satisfied: propcache>=0.2.0 in /Library/Frameworks/Python.framework/Versions/3.12/lib/python3.12/site-packages (from aiohttp->aiohttp-retry>=2.5.0->dvc-http>=2.29.0->dvc>=3.59.1->-r requirements.txt (line 14)) (0.3.1)\n",
      "Requirement already satisfied: yarl<2.0,>=1.17.0 in /Library/Frameworks/Python.framework/Versions/3.12/lib/python3.12/site-packages (from aiohttp->aiohttp-retry>=2.5.0->dvc-http>=2.29.0->dvc>=3.59.1->-r requirements.txt (line 14)) (1.19.0)\n",
      "Requirement already satisfied: pycparser in /Library/Frameworks/Python.framework/Versions/3.12/lib/python3.12/site-packages (from cffi>=1.17.0->pygit2>=1.14.0->scmrepo<4,>=3.3.8->dvc>=3.59.1->-r requirements.txt (line 14)) (2.22)\n",
      "Requirement already satisfied: smmap<6,>=3.0.1 in /Library/Frameworks/Python.framework/Versions/3.12/lib/python3.12/site-packages (from gitdb<5,>=4.0.1->gitpython>3->scmrepo<4,>=3.3.8->dvc>=3.59.1->-r requirements.txt (line 14)) (5.0.2)\n",
      "Requirement already satisfied: wcwidth in /Library/Frameworks/Python.framework/Versions/3.12/lib/python3.12/site-packages (from prompt-toolkit>=3.0.36->click-repl>=0.2.0->celery->dvc>=3.59.1->-r requirements.txt (line 14)) (0.2.13)\n",
      "Downloading numpy-1.26.4-cp312-cp312-macosx_10_9_x86_64.whl (20.3 MB)\n",
      "\u001b[2K   \u001b[90m━━━━━━━━━━━━━━━━━━━━━━━━━━━━━━━━━━━━━━━━\u001b[0m \u001b[32m20.3/20.3 MB\u001b[0m \u001b[31m7.8 MB/s\u001b[0m eta \u001b[36m0:00:00\u001b[0m00:01\u001b[0m00:01\u001b[0m\n",
      "\u001b[?25hInstalling collected packages: numpy\n",
      "  Attempting uninstall: numpy\n",
      "    Found existing installation: numpy 2.1.1\n",
      "    Uninstalling numpy-2.1.1:\n",
      "      Successfully uninstalled numpy-2.1.1\n",
      "\u001b[33m  WARNING: The script f2py is installed in '/Library/Frameworks/Python.framework/Versions/3.12/bin' which is not on PATH.\n",
      "  Consider adding this directory to PATH or, if you prefer to suppress this warning, use --no-warn-script-location.\n",
      "  NOTE: The current PATH contains path(s) starting with `~`, which may not be expanded by all applications.\u001b[0m\u001b[33m\n",
      "\u001b[0mSuccessfully installed numpy-1.26.4\n"
     ]
    }
   ],
   "source": [
    "!python3 -m pip install -r requirements.txt\n"
   ]
  },
  {
   "cell_type": "code",
   "execution_count": 27,
   "id": "14b77b88",
   "metadata": {},
   "outputs": [
    {
     "name": "stdout",
     "output_type": "stream",
     "text": [
      "Traceback (most recent call last):\n",
      "  File \"/Users/admin/Учеба/КПВ/PPE-Detection/train.py\", line 1, in <module>\n",
      "    from utils import train_and_validate_models\n",
      "  File \"/Users/admin/Учеба/КПВ/PPE-Detection/utils.py\", line 6, in <module>\n",
      "    from ultralytics import YOLO\n",
      "  File \"/Library/Frameworks/Python.framework/Versions/3.12/lib/python3.12/site-packages/ultralytics/__init__.py\", line 11, in <module>\n",
      "    from ultralytics.models import NAS, RTDETR, SAM, YOLO, YOLOE, FastSAM, YOLOWorld\n",
      "  File \"/Library/Frameworks/Python.framework/Versions/3.12/lib/python3.12/site-packages/ultralytics/models/__init__.py\", line 3, in <module>\n",
      "    from .fastsam import FastSAM\n",
      "  File \"/Library/Frameworks/Python.framework/Versions/3.12/lib/python3.12/site-packages/ultralytics/models/fastsam/__init__.py\", line 3, in <module>\n",
      "    from .model import FastSAM\n",
      "  File \"/Library/Frameworks/Python.framework/Versions/3.12/lib/python3.12/site-packages/ultralytics/models/fastsam/model.py\", line 5, in <module>\n",
      "    from ultralytics.engine.model import Model\n",
      "  File \"/Library/Frameworks/Python.framework/Versions/3.12/lib/python3.12/site-packages/ultralytics/engine/model.py\", line 11, in <module>\n",
      "    from ultralytics.cfg import TASK2DATA, get_cfg, get_save_dir\n",
      "  File \"/Library/Frameworks/Python.framework/Versions/3.12/lib/python3.12/site-packages/ultralytics/cfg/__init__.py\", line 12, in <module>\n",
      "    from ultralytics.utils import (\n",
      "  File \"/Library/Frameworks/Python.framework/Versions/3.12/lib/python3.12/site-packages/ultralytics/utils/__init__.py\", line 24, in <module>\n",
      "    import matplotlib.pyplot as plt\n",
      "  File \"/Library/Frameworks/Python.framework/Versions/3.12/lib/python3.12/site-packages/matplotlib/__init__.py\", line 1270, in <module>\n",
      "    rcParams['backend'] = os.environ.get('MPLBACKEND')\n",
      "    ~~~~~~~~^^^^^^^^^^^\n",
      "  File \"/Library/Frameworks/Python.framework/Versions/3.12/lib/python3.12/site-packages/matplotlib/__init__.py\", line 738, in __setitem__\n",
      "    raise ValueError(f\"Key {key}: {ve}\") from None\n",
      "ValueError: Key backend: 'module://matplotlib_inline.backend_inline' is not a valid value for backend; supported values are ['gtk3agg', 'gtk3cairo', 'gtk4agg', 'gtk4cairo', 'macosx', 'nbagg', 'notebook', 'qtagg', 'qtcairo', 'qt5agg', 'qt5cairo', 'tkagg', 'tkcairo', 'webagg', 'wx', 'wxagg', 'wxcairo', 'agg', 'cairo', 'pdf', 'pgf', 'ps', 'svg', 'template']\n"
     ]
    }
   ],
   "source": [
    "!python3 train.py --config params.yaml"
   ]
  },
  {
   "cell_type": "code",
   "execution_count": null,
   "id": "751c2812",
   "metadata": {},
   "outputs": [],
   "source": []
  }
 ],
 "metadata": {
  "kernelspec": {
   "display_name": "Python 3.11.11 64-bit",
   "language": "python",
   "name": "python3"
  },
  "language_info": {
   "codemirror_mode": {
    "name": "ipython",
    "version": 3
   },
   "file_extension": ".py",
   "mimetype": "text/x-python",
   "name": "python",
   "nbconvert_exporter": "python",
   "pygments_lexer": "ipython3",
   "version": "3.11.11"
  },
  "vscode": {
   "interpreter": {
    "hash": "1a1af0ee75eeea9e2e1ee996c87e7a2b11a0bebd85af04bb136d915cefc0abce"
   }
  }
 },
 "nbformat": 4,
 "nbformat_minor": 5
}
